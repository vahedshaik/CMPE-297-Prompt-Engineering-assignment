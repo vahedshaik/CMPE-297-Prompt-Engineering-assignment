{
  "nbformat": 4,
  "nbformat_minor": 0,
  "metadata": {
    "colab": {
      "provenance": []
    },
    "kernelspec": {
      "name": "python3",
      "display_name": "Python 3"
    },
    "language_info": {
      "name": "python"
    },
    "widgets": {
      "application/vnd.jupyter.widget-state+json": {
        "10a194cd68724c5d9419949b06b1d74e": {
          "model_module": "@jupyter-widgets/controls",
          "model_name": "TextareaModel",
          "model_module_version": "1.5.0",
          "state": {
            "_dom_classes": [],
            "_model_module": "@jupyter-widgets/controls",
            "_model_module_version": "1.5.0",
            "_model_name": "TextareaModel",
            "_view_count": null,
            "_view_module": "@jupyter-widgets/controls",
            "_view_module_version": "1.5.0",
            "_view_name": "TextareaView",
            "continuous_update": true,
            "description": "Prompt:",
            "description_tooltip": null,
            "disabled": false,
            "layout": "IPY_MODEL_c8271d89360d4ed0af6dd7a9c7b340d6",
            "placeholder": "Enter your prompt here...",
            "rows": null,
            "style": "IPY_MODEL_2089dad1f57f43888604a1bf1de12d8f",
            "value": "Apples and bananas"
          }
        },
        "c8271d89360d4ed0af6dd7a9c7b340d6": {
          "model_module": "@jupyter-widgets/base",
          "model_name": "LayoutModel",
          "model_module_version": "1.2.0",
          "state": {
            "_model_module": "@jupyter-widgets/base",
            "_model_module_version": "1.2.0",
            "_model_name": "LayoutModel",
            "_view_count": null,
            "_view_module": "@jupyter-widgets/base",
            "_view_module_version": "1.2.0",
            "_view_name": "LayoutView",
            "align_content": null,
            "align_items": null,
            "align_self": null,
            "border": null,
            "bottom": null,
            "display": null,
            "flex": null,
            "flex_flow": null,
            "grid_area": null,
            "grid_auto_columns": null,
            "grid_auto_flow": null,
            "grid_auto_rows": null,
            "grid_column": null,
            "grid_gap": null,
            "grid_row": null,
            "grid_template_areas": null,
            "grid_template_columns": null,
            "grid_template_rows": null,
            "height": "200px",
            "justify_content": null,
            "justify_items": null,
            "left": null,
            "margin": null,
            "max_height": null,
            "max_width": null,
            "min_height": null,
            "min_width": null,
            "object_fit": null,
            "object_position": null,
            "order": null,
            "overflow": null,
            "overflow_x": null,
            "overflow_y": null,
            "padding": null,
            "right": null,
            "top": null,
            "visibility": null,
            "width": "100%"
          }
        },
        "2089dad1f57f43888604a1bf1de12d8f": {
          "model_module": "@jupyter-widgets/controls",
          "model_name": "DescriptionStyleModel",
          "model_module_version": "1.5.0",
          "state": {
            "_model_module": "@jupyter-widgets/controls",
            "_model_module_version": "1.5.0",
            "_model_name": "DescriptionStyleModel",
            "_view_count": null,
            "_view_module": "@jupyter-widgets/base",
            "_view_module_version": "1.2.0",
            "_view_name": "StyleView",
            "description_width": ""
          }
        },
        "f943572ba0e241b2a9488e103ba1bf91": {
          "model_module": "@jupyter-widgets/controls",
          "model_name": "ButtonModel",
          "model_module_version": "1.5.0",
          "state": {
            "_dom_classes": [],
            "_model_module": "@jupyter-widgets/controls",
            "_model_module_version": "1.5.0",
            "_model_name": "ButtonModel",
            "_view_count": null,
            "_view_module": "@jupyter-widgets/controls",
            "_view_module_version": "1.5.0",
            "_view_name": "ButtonView",
            "button_style": "",
            "description": "Evaluate",
            "disabled": false,
            "icon": "",
            "layout": "IPY_MODEL_078271e6283a41ef9f29ccdf071c33fd",
            "style": "IPY_MODEL_229379bfabb84e239facbea11a5a1f7e",
            "tooltip": ""
          }
        },
        "078271e6283a41ef9f29ccdf071c33fd": {
          "model_module": "@jupyter-widgets/base",
          "model_name": "LayoutModel",
          "model_module_version": "1.2.0",
          "state": {
            "_model_module": "@jupyter-widgets/base",
            "_model_module_version": "1.2.0",
            "_model_name": "LayoutModel",
            "_view_count": null,
            "_view_module": "@jupyter-widgets/base",
            "_view_module_version": "1.2.0",
            "_view_name": "LayoutView",
            "align_content": null,
            "align_items": null,
            "align_self": null,
            "border": null,
            "bottom": null,
            "display": null,
            "flex": null,
            "flex_flow": null,
            "grid_area": null,
            "grid_auto_columns": null,
            "grid_auto_flow": null,
            "grid_auto_rows": null,
            "grid_column": null,
            "grid_gap": null,
            "grid_row": null,
            "grid_template_areas": null,
            "grid_template_columns": null,
            "grid_template_rows": null,
            "height": null,
            "justify_content": null,
            "justify_items": null,
            "left": null,
            "margin": null,
            "max_height": null,
            "max_width": null,
            "min_height": null,
            "min_width": null,
            "object_fit": null,
            "object_position": null,
            "order": null,
            "overflow": null,
            "overflow_x": null,
            "overflow_y": null,
            "padding": null,
            "right": null,
            "top": null,
            "visibility": null,
            "width": null
          }
        },
        "229379bfabb84e239facbea11a5a1f7e": {
          "model_module": "@jupyter-widgets/controls",
          "model_name": "ButtonStyleModel",
          "model_module_version": "1.5.0",
          "state": {
            "_model_module": "@jupyter-widgets/controls",
            "_model_module_version": "1.5.0",
            "_model_name": "ButtonStyleModel",
            "_view_count": null,
            "_view_module": "@jupyter-widgets/base",
            "_view_module_version": "1.2.0",
            "_view_name": "StyleView",
            "button_color": null,
            "font_weight": ""
          }
        }
      }
    }
  },
  "cells": [
    {
      "cell_type": "code",
      "execution_count": 1,
      "metadata": {
        "id": "UJlc1aEl_jW8"
      },
      "outputs": [],
      "source": [
        "# Required Libraries\n",
        "import ipywidgets as widgets\n",
        "from IPython.display import display, clear_output"
      ]
    },
    {
      "cell_type": "code",
      "source": [
        "# Define the criteria for evaluation\n",
        "criteria = {\n",
        "    \"clarity\": \"Is the prompt clear and easy to understand?\",\n",
        "    \"completeness\": \"Does the prompt provide all necessary information?\",\n",
        "    \"neutrality\": \"Is the prompt free from biases?\",\n",
        "    \"specificity\": \"Is the prompt specific enough for its intended purpose?\"}\n"
      ],
      "metadata": {
        "id": "fiwV88vS_khi"
      },
      "execution_count": 2,
      "outputs": []
    },
    {
      "cell_type": "code",
      "source": [
        "def evaluate_prompt(prompt):\n",
        "    feedback = {}\n",
        "    # Here, we're simulating the evaluation using some basic criteria.\n",
        "    # In a real-world scenario, a more detailed evaluation model would be required.\n",
        "\n",
        "    if len(prompt) < 10:\n",
        "        feedback[\"clarity\"] = \"The prompt seems too short. Consider providing more context.\"\n",
        "    if \"?\" not in prompt:\n",
        "        feedback[\"completeness\"] = \"The prompt doesn't seem to have a clear question. What do you want the model to answer or generate?\"\n",
        "    if \"best\" in prompt or \"worst\" in prompt:\n",
        "        feedback[\"neutrality\"] = \"The prompt might have some biases. Consider rephrasing.\"\n",
        "    if len(prompt.split()) < 3:\n",
        "        feedback[\"specificity\"] = \"The prompt is very brief. Consider adding more details for clarity.\"\n",
        "\n",
        "    return feedback"
      ],
      "metadata": {
        "id": "RzLfmv_O_kj9"
      },
      "execution_count": 3,
      "outputs": []
    },
    {
      "cell_type": "code",
      "source": [
        "def on_submit(change):\n",
        "    prompt = text_area.value\n",
        "    feedback = evaluate_prompt(prompt)\n",
        "    clear_output(wait=True)\n",
        "    display_ui()\n",
        "    for key, value in feedback.items():\n",
        "        print(f\"{criteria[key]}: {value}\")"
      ],
      "metadata": {
        "id": "oaLEVJ4r_kme"
      },
      "execution_count": 4,
      "outputs": []
    },
    {
      "cell_type": "code",
      "source": [
        "def display_ui():\n",
        "    display(text_area, submit_button)"
      ],
      "metadata": {
        "id": "KHRPY1X9_kpD"
      },
      "execution_count": 5,
      "outputs": []
    },
    {
      "cell_type": "code",
      "source": [
        "text_area = widgets.Textarea(\n",
        "    value='',\n",
        "    placeholder='Enter your prompt here...',\n",
        "    description='Prompt:',\n",
        "    disabled=False,\n",
        "    layout=widgets.Layout(width='100%', height='200px')\n",
        ")\n",
        "\n",
        "submit_button = widgets.Button(description=\"Evaluate\")\n",
        "submit_button.on_click(on_submit)\n",
        "\n",
        "display_ui()"
      ],
      "metadata": {
        "colab": {
          "base_uri": "https://localhost:8080/",
          "height": 291,
          "referenced_widgets": [
            "10a194cd68724c5d9419949b06b1d74e",
            "c8271d89360d4ed0af6dd7a9c7b340d6",
            "2089dad1f57f43888604a1bf1de12d8f",
            "f943572ba0e241b2a9488e103ba1bf91",
            "078271e6283a41ef9f29ccdf071c33fd",
            "229379bfabb84e239facbea11a5a1f7e"
          ]
        },
        "id": "V2YbNHAW_kra",
        "outputId": "8fc2f046-7231-487d-ffae-347e1f04130b"
      },
      "execution_count": 6,
      "outputs": [
        {
          "output_type": "display_data",
          "data": {
            "text/plain": [
              "Textarea(value='Apples and bananas', description='Prompt:', layout=Layout(height='200px', width='100%'), place…"
            ],
            "application/vnd.jupyter.widget-view+json": {
              "version_major": 2,
              "version_minor": 0,
              "model_id": "10a194cd68724c5d9419949b06b1d74e"
            }
          },
          "metadata": {}
        },
        {
          "output_type": "display_data",
          "data": {
            "text/plain": [
              "Button(description='Evaluate', style=ButtonStyle())"
            ],
            "application/vnd.jupyter.widget-view+json": {
              "version_major": 2,
              "version_minor": 0,
              "model_id": "f943572ba0e241b2a9488e103ba1bf91"
            }
          },
          "metadata": {}
        },
        {
          "output_type": "stream",
          "name": "stdout",
          "text": [
            "Does the prompt provide all necessary information?: The prompt doesn't seem to have a clear question. What do you want the model to answer or generate?\n"
          ]
        }
      ]
    },
    {
      "cell_type": "code",
      "source": [],
      "metadata": {
        "id": "ZdgMs0uT_kuA"
      },
      "execution_count": null,
      "outputs": []
    },
    {
      "cell_type": "code",
      "source": [],
      "metadata": {
        "id": "KmLREHFl_kwX"
      },
      "execution_count": null,
      "outputs": []
    },
    {
      "cell_type": "code",
      "source": [],
      "metadata": {
        "id": "LCwpANnX_ky9"
      },
      "execution_count": null,
      "outputs": []
    },
    {
      "cell_type": "code",
      "source": [],
      "metadata": {
        "id": "JPOfTCQl_k1j"
      },
      "execution_count": null,
      "outputs": []
    },
    {
      "cell_type": "code",
      "source": [],
      "metadata": {
        "id": "75WF7Dqm_k37"
      },
      "execution_count": null,
      "outputs": []
    },
    {
      "cell_type": "code",
      "source": [],
      "metadata": {
        "id": "sT_OKm21_k6Q"
      },
      "execution_count": null,
      "outputs": []
    }
  ]
}